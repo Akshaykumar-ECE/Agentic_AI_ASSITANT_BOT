{
 "cells": [
  {
   "cell_type": "code",
   "execution_count": 130,
   "id": "3451fc79",
   "metadata": {},
   "outputs": [],
   "source": [
    "from langchain_community.tools import ArxivQueryRun, WikipediaQueryRun\n",
    "from langchain_community.utilities import ArxivAPIWrapper,WikipediaAPIWrapper\n",
    "from langchain_community.tools.google_books import GoogleBooksQueryRun\n",
    "from langchain_community.utilities.google_books import GoogleBooksAPIWrapper\n",
    "from langchain_community.tools.pubmed.tool import PubmedQueryRun\n",
    "from langchain_community.tools import YouTubeSearchTool\n",
    "\n",
    "\n",
    "# from langchain_community.utilities.google_scholar import GoogleScholarAPIWrapper\n"
   ]
  },
  {
   "cell_type": "code",
   "execution_count": 105,
   "id": "bddcea1c",
   "metadata": {},
   "outputs": [],
   "source": [
    "from dotenv import load_dotenv\n",
    "load_dotenv()\n",
    "import os\n",
    "\n",
    "\n",
    "os.environ[\"GOOGLE_BOOKS_API_KEY\"] = os.getenv(\"GOOGLE_BOOKS_API_KEY\")\n",
    "os.environ[\"TAVILY_API_KEY\"]=os.getenv(\"TAVILY_API_KEY\")\n",
    "os.environ[\"GROQ_API_KEY\"]=os.getenv(\"GROQ_API_KEY\")"
   ]
  },
  {
   "cell_type": "code",
   "execution_count": 106,
   "id": "f272ca63",
   "metadata": {},
   "outputs": [
    {
     "name": "stdout",
     "output_type": "stream",
     "text": [
      "arxiv\n"
     ]
    }
   ],
   "source": [
    "api_wrapper_arxiv=ArxivAPIWrapper(top_k_results=2,doc_content_chars_max=500)\n",
    "arxiv=ArxivQueryRun(api_wrapper=api_wrapper_arxiv,description=\"Query Arxiv Paper\")\n",
    "\n",
    "print(arxiv.name)"
   ]
  },
  {
   "cell_type": "code",
   "execution_count": 107,
   "id": "680f707f",
   "metadata": {},
   "outputs": [
    {
     "name": "stdout",
     "output_type": "stream",
     "text": [
      "wikipedia\n"
     ]
    }
   ],
   "source": [
    "api_wrapper_wiki = WikipediaAPIWrapper(top_k_results=2,doc_content_chars_max=500)\n",
    "wiki=WikipediaQueryRun(api_wrapper=api_wrapper_wiki)\n",
    "print(wiki.name)"
   ]
  },
  {
   "cell_type": "code",
   "execution_count": 108,
   "id": "146e3b87",
   "metadata": {},
   "outputs": [
    {
     "name": "stdout",
     "output_type": "stream",
     "text": [
      "GoogleBooks\n"
     ]
    }
   ],
   "source": [
    "books = GoogleBooksQueryRun(api_wrapper=GoogleBooksAPIWrapper())\n",
    "print(books.name)"
   ]
  },
  {
   "cell_type": "code",
   "execution_count": 110,
   "id": "d4b8bffe",
   "metadata": {},
   "outputs": [
    {
     "name": "stdout",
     "output_type": "stream",
     "text": [
      "pub_med\n"
     ]
    }
   ],
   "source": [
    "pubmed = PubmedQueryRun()\n",
    "print(pubmed.name)"
   ]
  },
  {
   "cell_type": "code",
   "execution_count": 124,
   "id": "a86609c3",
   "metadata": {},
   "outputs": [],
   "source": [
    "youtube = YouTubeSearchTool()"
   ]
  },
  {
   "cell_type": "code",
   "execution_count": null,
   "id": "a11d27fd",
   "metadata": {},
   "outputs": [],
   "source": [
    "from langchain_community.tools.tavily_search import TavilySearchResults\n",
    "tavily=TavilySearchResults()\n",
    "    \n"
   ]
  },
  {
   "cell_type": "code",
   "execution_count": null,
   "id": "b51ff496",
   "metadata": {},
   "outputs": [],
   "source": [
    "tools=[arxiv,wiki,tavily,books,pubmed,youtube]"
   ]
  },
  {
   "cell_type": "code",
   "execution_count": 115,
   "id": "b5ae470f",
   "metadata": {},
   "outputs": [],
   "source": [
    "from langchain_groq import ChatGroq\n",
    "llm=ChatGroq(model=\"meta-llama/llama-4-maverick-17b-128e-instruct\")\n",
    "llm_with_tools=llm.bind_tools(tools=tools)"
   ]
  },
  {
   "cell_type": "code",
   "execution_count": 137,
   "id": "bb2a8ff8",
   "metadata": {},
   "outputs": [],
   "source": [
    "# llm_with_tools.invoke(\"ofdm research paper\")"
   ]
  },
  {
   "cell_type": "code",
   "execution_count": 143,
   "id": "ca43754a",
   "metadata": {},
   "outputs": [
    {
     "name": "stdout",
     "output_type": "stream",
     "text": [
      "Requirement already satisfied: TypedDict in c:\\users\\aksha\\onedrive\\desktop\\pro\\venv\\lib\\site-packages (0.3.0)\n",
      "Collecting pydantic<2.0.0,>=1.9.1 (from TypedDict)\n",
      "  Using cached pydantic-1.10.24-cp311-cp311-win_amd64.whl.metadata (156 kB)\n",
      "Requirement already satisfied: typing-extensions>=4.3.0 in c:\\users\\aksha\\onedrive\\desktop\\pro\\venv\\lib\\site-packages (from TypedDict) (4.15.0)\n",
      "Using cached pydantic-1.10.24-cp311-cp311-win_amd64.whl (2.1 MB)\n",
      "Installing collected packages: pydantic\n",
      "  Attempting uninstall: pydantic\n",
      "    Found existing installation: pydantic 2.11.10\n",
      "    Uninstalling pydantic-2.11.10:\n",
      "      Successfully uninstalled pydantic-2.11.10\n",
      "Successfully installed pydantic-1.10.24\n",
      "Note: you may need to restart the kernel to use updated packages.\n"
     ]
    },
    {
     "name": "stderr",
     "output_type": "stream",
     "text": [
      "ERROR: pip's dependency resolver does not currently take into account all the packages that are installed. This behaviour is the source of the following dependency conflicts.\n",
      "langchain 0.3.27 requires pydantic<3.0.0,>=2.7.4, but you have pydantic 1.10.24 which is incompatible.\n",
      "langchain-core 0.3.76 requires pydantic>=2.7.4, but you have pydantic 1.10.24 which is incompatible.\n",
      "langchain-objectbox 0.1.0 requires langchain-core<0.2.0,>=0.1.45, but you have langchain-core 0.3.76 which is incompatible.\n",
      "langgraph 0.6.8 requires pydantic>=2.7.4, but you have pydantic 1.10.24 which is incompatible.\n",
      "langserve 0.3.2 requires pydantic<3.0,>=2.7, but you have pydantic 1.10.24 which is incompatible.\n",
      "ollama 0.5.4 requires pydantic>=2.9, but you have pydantic 1.10.24 which is incompatible.\n",
      "pydantic-settings 2.11.0 requires pydantic>=2.7.0, but you have pydantic 1.10.24 which is incompatible.\n"
     ]
    }
   ],
   "source": [
    "%pip install TypedDict"
   ]
  },
  {
   "cell_type": "code",
   "execution_count": null,
   "id": "fc605f5e",
   "metadata": {},
   "outputs": [],
   "source": [
    "class State(TypedDict):\n",
    "    messages:Annotated[list[Anymes]]"
   ]
  }
 ],
 "metadata": {
  "kernelspec": {
   "display_name": "venv",
   "language": "python",
   "name": "python3"
  },
  "language_info": {
   "codemirror_mode": {
    "name": "ipython",
    "version": 3
   },
   "file_extension": ".py",
   "mimetype": "text/x-python",
   "name": "python",
   "nbconvert_exporter": "python",
   "pygments_lexer": "ipython3",
   "version": "3.11.0"
  }
 },
 "nbformat": 4,
 "nbformat_minor": 5
}
